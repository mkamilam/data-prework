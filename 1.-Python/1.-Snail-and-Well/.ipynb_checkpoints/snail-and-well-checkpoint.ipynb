{
 "cells": [
  {
   "cell_type": "markdown",
   "metadata": {},
   "source": [
    "<img src=\"https://bit.ly/2VnXWr2\" width=\"100\" align=\"left\">"
   ]
  },
  {
   "cell_type": "markdown",
   "metadata": {},
   "source": [
    "# The Snail and the Well\n",
    "\n",
    "A snail falls at the bottom of a 125 cm well. Each day the snail rises 30 cm. But at night, while sleeping, slides 20 cm because the walls are wet. How many days does it take for the snail to escape the well?\n",
    "\n",
    "**Hint**: The snail gets out of the well when it surpasses the 125cm of height.\n",
    "\n",
    "## Tools\n",
    "\n",
    "1. Loop: **while**\n",
    "2. Conditional statements: **if-else**\n",
    "3. Function: **print()**\n",
    "\n",
    "## Tasks\n",
    "\n",
    "#### 1. Assign the challenge data to variables with representative names: `well_height`, `daily_distance`, `nightly_distance` and `snail_position`."
   ]
  },
  {
   "cell_type": "code",
   "execution_count": 46,
   "metadata": {},
   "outputs": [],
   "source": [
    "well_height = 125\n",
    "daily_distance = 30\n",
    "nightly_distance = 20\n",
    "snail_position = 0"
   ]
  },
  {
   "cell_type": "markdown",
   "metadata": {},
   "source": [
    "#### 2. Create a variable `days` to keep count of the days that pass until the snail escapes the well. "
   ]
  },
  {
   "cell_type": "code",
   "execution_count": 47,
   "metadata": {},
   "outputs": [],
   "source": [
    "days = 0"
   ]
  },
  {
   "cell_type": "markdown",
   "metadata": {},
   "source": [
    "#### 3. Find the solution to the challenge using the variables defined above. "
   ]
  },
  {
   "cell_type": "code",
   "execution_count": 48,
   "metadata": {},
   "outputs": [],
   "source": [
    "while snail_position <= well_height:\n",
    "    days = days + 1 #everytime the loop runs add 1 to days. \n",
    "    snail_position = snail_position + daily_distance - nightly_distance\n",
    "#print(snail_position) to verify the position is > than 125     "
   ]
  },
  {
   "cell_type": "markdown",
   "metadata": {},
   "source": [
    "#### 4. Print the solution."
   ]
  },
  {
   "cell_type": "code",
   "execution_count": 49,
   "metadata": {},
   "outputs": [
    {
     "name": "stdout",
     "output_type": "stream",
     "text": [
      "It takes 13 days for the Snail to escape the well\n"
     ]
    }
   ],
   "source": [
    "print(\"It takes\",days,\"days for the Snail to escape the well\")"
   ]
  },
  {
   "cell_type": "markdown",
   "metadata": {},
   "source": [
    "## Bonus\n",
    "The distance traveled by the snail each day is now defined by a list.\n",
    "```\n",
    "advance_cm = [30, 21, 33, 77, 44, 45, 23, 45, 12, 34, 55]\n",
    "```\n",
    "On the first day, the snail rises 30cm but during the night it slides 20cm. On the second day, the snail rises 21cm but during the night it slides 20cm, and so on. \n",
    "\n",
    "#### 1. How many days does it take for the snail to escape the well?\n",
    "Follow the same guidelines as in the previous challenge.\n",
    "\n",
    "**Hint**: Remember that the snail gets out of the well when it surpasses the 125cm of height."
   ]
  },
  {
   "cell_type": "code",
   "execution_count": 50,
   "metadata": {},
   "outputs": [
    {
     "name": "stdout",
     "output_type": "stream",
     "text": [
      "It takes 6 days for the snail to escape the well\n"
     ]
    }
   ],
   "source": [
    "advance_cm = [30, 21, 33, 77, 44, 45, 23, 45, 12, 34, 55]\n",
    "\n",
    "advance_after_night = []\n",
    "\n",
    "days2 = 0\n",
    "\n",
    "snail_position2 = 0\n",
    "for i in range(len(advance_cm)):\n",
    "    x = advance_cm[i] - 20\n",
    "    advance_after_night.append(x)\n",
    "    \n",
    "for i in range(len(advance_after_night)):\n",
    "    snail_position2 = snail_position2 + advance_after_night[i]\n",
    "    if snail_position2 <= well_height:\n",
    "        days2 = days2 +1\n",
    "print(\"It takes\",days2+1, \"days for the snail to escape the well\") #Because its stopping before it hits 125+ so we add another day. \n",
    "\n",
    "    "
   ]
  },
  {
   "cell_type": "markdown",
   "metadata": {},
   "source": [
    "#### 2. What is its maximum displacement in one day? And its minimum? Calculate the displacement using only the travel distance of the days used to get out of the well. \n",
    "**Hint**: Remember that displacement means the total distance risen taking into account that the snail slides at night.  "
   ]
  },
  {
   "cell_type": "code",
   "execution_count": 33,
   "metadata": {},
   "outputs": [
    {
     "name": "stdout",
     "output_type": "stream",
     "text": [
      "the maximum displacement in one day is 57 and the minimum displacement in one day is -8\n"
     ]
    }
   ],
   "source": [
    "print(\"the maximum displacement in one day is\", max(advance_after_night), \"and the minimum displacement in one day is\",min(advance_after_night))"
   ]
  },
  {
   "cell_type": "markdown",
   "metadata": {},
   "source": [
    "#### 3. What is its average progress? Take into account the snail slides at night."
   ]
  },
  {
   "cell_type": "code",
   "execution_count": 41,
   "metadata": {},
   "outputs": [
    {
     "name": "stdout",
     "output_type": "stream",
     "text": [
      "the average progress of the snail is 18.09090909090909\n"
     ]
    }
   ],
   "source": [
    "average = sum(advance_after_night)/len(advance_after_night)\n",
    "\n",
    "print(\"the average progress of the snail is\",average)"
   ]
  },
  {
   "cell_type": "markdown",
   "metadata": {},
   "source": [
    "#### 4. What is the standard deviation of its displacement? Take into account the snail slides at night."
   ]
  },
  {
   "cell_type": "code",
   "execution_count": 45,
   "metadata": {},
   "outputs": [
    {
     "name": "stdout",
     "output_type": "stream",
     "text": [
      "the standard deviation is equal to 13.38040268001666\n"
     ]
    }
   ],
   "source": [
    "squares = []\n",
    "for i in range(len(advance_after_night)):\n",
    "    x = (advance_after_night[i] - average)**2\n",
    "    squares.append(x)\n",
    "\n",
    "stan_deviation = ((sum(squares))/average)**(1/2)\n",
    "print(\"the standard deviation is equal to\",stan_deviation)"
   ]
  }
 ],
 "metadata": {
  "kernelspec": {
   "display_name": "Python 3",
   "language": "python",
   "name": "python3"
  }
 },
 "nbformat": 4,
 "nbformat_minor": 2
}
